{
 "cells": [
  {
   "cell_type": "markdown",
   "id": "beautiful-feelings",
   "metadata": {},
   "source": [
    "# 1. Parsing HTML (allow 8 mins)¶"
   ]
  },
  {
   "cell_type": "markdown",
   "id": "charitable-martial",
   "metadata": {},
   "source": [
    "Task You will scrape and process simple html page located here candidateEvalData/webpage.html\n",
    "\n",
    "Output A dataframe of 1 row and 7 columns where the columns are:\n",
    "\n",
    "1. The name of the artist (Peter Doig)\n",
    "2. The name of the painting (The Architect's Home in the Ravine)\n",
    "3. Price realised in GBP (11 282 500)\n",
    "4. Price realised in USD (6 370 908)\n",
    "5. Estimates in GBP (10 000 000 , 15 000 000)\n",
    "6. Estimate in USD (14 509 999 , 21 764999)\n",
    "7. The url of the image of the painting\n",
    "8. Saledate of the painting (2016-02-11)"
   ]
  },
  {
   "cell_type": "code",
   "execution_count": 17,
   "id": "analyzed-inside",
   "metadata": {},
   "outputs": [],
   "source": [
    "#import modules\n",
    "from lxml import html\n",
    "import re\n",
    "import requests\n",
    "import pandas as pd\n",
    "from datetime import datetime\n",
    "\n",
    "#get html and tree\n",
    "html_page_link = 'candidateEvalData/webpage.html'\n",
    "tree = html.parse(html_page_link)\n",
    "\n",
    "# parse artist name\n",
    "artist_name = tree.xpath(\"//div[@id='MainContent']/child::div/child::div/child::h1[@class='lotName']\")[0].text\n",
    "\n",
    "#parse painting name\n",
    "painting_name = tree.xpath(\"//div[@id='MainContent']/child::div/child::div/child::h2[@class='itemName']/i\")[0].text\n",
    "\n",
    "#parse price GBP\n",
    "price_gbp = tree.xpath(\"//div[@id='MainContent']/child::div/child::div/child::div\\\n",
    "           [@class='price']/p/span[@id='main_center_0_lblPriceRealizedPrimary']\")[0].text\n",
    "\n",
    "#parse price US\n",
    "price_us = tree.xpath(\"//div[@id='MainContent']/child::div/child::div/child::div\\\n",
    "           [@class='price']/following-sibling::div[@id='main_center_0_lblPriceRealizedSecondary']\")[0].text\n",
    "\n",
    "#parse price GBP est\n",
    "price_gbp_est = tree.xpath(\"//div[@id='MainContent']/child::div/child::div/child::div\\\n",
    "           [@class='price']/p/span[@id='main_center_0_lblPriceEstimatedPrimary']\")[0].text\n",
    "\n",
    "#parse price US est\n",
    "price_us_est = tree.xpath(\"//div[@id='MainContent']/child::div/child::div/child::div\\\n",
    "[@class='price grey PriceEstimatedSecondary']/child::span[@id='main_center_0_lblPriceEstimatedSecondary']\")[0].text\n",
    "\n",
    "#image link\n",
    "image_link = tree.xpath(\"//div[@id='MainContent']/child::div/child::div/child::div/child::ul\\\n",
    "            [@id='main_center_0_imgCarouselMain']/child::li/child::a/child::div/child::picture/\\\n",
    "            child::img[@id='imgLotImage']\")[0].attrib['src']\n",
    "\n",
    "sale_date = tree.xpath(\"//div[@id='MainLotSubheader']/p/span[@id='main_center_0_lblSaleDate']\")[0].text"
   ]
  },
  {
   "cell_type": "code",
   "execution_count": 18,
   "id": "cathedral-midnight",
   "metadata": {},
   "outputs": [],
   "source": [
    "from datetime import datetime\n",
    "\n",
    "sale_date_f = datetime.strptime(sale_date.replace(\",\",\"\").strip(), \"%d %B %Y\")\n",
    "\n",
    "sale_date_formatted = sale_date_f.strftime(\"%Y-%m-%d\")"
   ]
  },
  {
   "cell_type": "code",
   "execution_count": 19,
   "id": "under-start",
   "metadata": {},
   "outputs": [
    {
     "data": {
      "text/html": [
       "<div>\n",
       "<style scoped>\n",
       "    .dataframe tbody tr th:only-of-type {\n",
       "        vertical-align: middle;\n",
       "    }\n",
       "\n",
       "    .dataframe tbody tr th {\n",
       "        vertical-align: top;\n",
       "    }\n",
       "\n",
       "    .dataframe thead th {\n",
       "        text-align: right;\n",
       "    }\n",
       "</style>\n",
       "<table border=\"1\" class=\"dataframe\">\n",
       "  <thead>\n",
       "    <tr style=\"text-align: right;\">\n",
       "      <th></th>\n",
       "      <th>Artist Name</th>\n",
       "      <th>Painting Name</th>\n",
       "      <th>Price GBP</th>\n",
       "      <th>Price US</th>\n",
       "      <th>Price GBP est</th>\n",
       "      <th>Price US est</th>\n",
       "      <th>Image url</th>\n",
       "      <th>Sale Date</th>\n",
       "    </tr>\n",
       "  </thead>\n",
       "  <tbody>\n",
       "    <tr>\n",
       "      <th>0</th>\n",
       "      <td>Peter Doig</td>\n",
       "      <td>The Architect's Home in the Ravine</td>\n",
       "      <td>11,282,500</td>\n",
       "      <td>16,370,908</td>\n",
       "      <td>10 000 000, 15 000 000</td>\n",
       "      <td>( 14 509 999, 21 764 999)</td>\n",
       "      <td>http://www.christies.com/lotfinderimages/D5973...</td>\n",
       "      <td>2016-02-11</td>\n",
       "    </tr>\n",
       "  </tbody>\n",
       "</table>\n",
       "</div>"
      ],
      "text/plain": [
       "  Artist Name                       Painting Name   Price GBP    Price US  \\\n",
       "0  Peter Doig  The Architect's Home in the Ravine  11,282,500  16,370,908   \n",
       "\n",
       "            Price GBP est               Price US est  \\\n",
       "0  10 000 000, 15 000 000  ( 14 509 999, 21 764 999)   \n",
       "\n",
       "                                           Image url   Sale Date  \n",
       "0  http://www.christies.com/lotfinderimages/D5973...  2016-02-11  "
      ]
     },
     "execution_count": 19,
     "metadata": {},
     "output_type": "execute_result"
    }
   ],
   "source": [
    "pd.DataFrame({\n",
    "    'Artist Name': [artist_name.split(\"(\")[0].strip()],\n",
    "    'Painting Name': [painting_name.strip()],\n",
    "    'Price GBP':[price_gbp.replace(\"GBP\", \"\").strip()],\n",
    "    'Price US':[price_us.replace(\"USD\", \"\").strip()],\n",
    "    'Price GBP est': [price_gbp_est.replace(\"GBP\", \"\").replace(\",\", \" \").strip().replace(\" - \", \",\")],\n",
    "    'Price US est': [price_us_est.replace(\"USD\", \"\").replace(\",\", \" \").strip().replace(\" - \", \",\")],\n",
    "    'Image url':[image_link],\n",
    "    'Sale Date':[sale_date_formatted]\n",
    "    \n",
    "})"
   ]
  },
  {
   "cell_type": "markdown",
   "id": "portable-writer",
   "metadata": {},
   "source": [
    "# 2. Regex (allow 12 mins)\n",
    "\n",
    "For each example below, write a regex to process the string in rawDim to extract the height, width and the depth (as float64 integers).\n",
    "\n",
    "<b>Bonus</b>: Is there a single regex for all 5 examples ?\n"
   ]
  },
  {
   "cell_type": "code",
   "execution_count": null,
   "id": "opening-pregnancy",
   "metadata": {},
   "outputs": [],
   "source": [
    "import pandas as pd\n",
    "dim_df = pd.read_csv(\"candidateEvalData/dim_df_correct.csv\")\n",
    "dim_df"
   ]
  },
  {
   "cell_type": "code",
   "execution_count": null,
   "id": "solid-charter",
   "metadata": {},
   "outputs": [],
   "source": [
    "########### reg expressions\n",
    "# loading modules\n",
    "import re\n",
    "import pandas as pd"
   ]
  },
  {
   "cell_type": "code",
   "execution_count": null,
   "id": "warming-receiver",
   "metadata": {},
   "outputs": [],
   "source": []
  },
  {
   "cell_type": "markdown",
   "id": "serious-lewis",
   "metadata": {},
   "source": [
    "# 3. Web crawler (allow 30 mins)\n",
    "For this task we will crawl a gallery's listing of works available for sale.\n",
    "\n",
    "The listings are on https://www.bearspace.co.uk/purchase\n",
    "\n",
    "Each listing leads to a detail page. Eg.\n",
    "\n",
    "Eg. https://www.bearspace.co.uk/product-page/tommy-by-olly-fathers\n",
    "\n",
    "Task Scrape all artworks available for sale. Please use scrapy for this task.\n",
    "\n",
    "Output Return a dataframe consisting of the following information"
   ]
  },
  {
   "cell_type": "markdown",
   "id": "unsigned-equity",
   "metadata": {},
   "source": [
    "Answer: In the repo"
   ]
  },
  {
   "cell_type": "markdown",
   "id": "comic-amino",
   "metadata": {},
   "source": [
    "# 4. Data (allow 5 mins)\n",
    "There is a nycflights13 database with the following tables:\n",
    "\n",
    "1. flights connects to planes via a single variable, tailnum.\n",
    "2. flights connects to airlines through the carrier variable.\n",
    "3. flights connects to airports in two ways: via the origin and dest variables.\n",
    "4. flights connects to weather via origin (the location), and year, month, day, and hour (the time).\n",
    "\n",
    "## Joins\n",
    "<b>Task 1</b> : Describe inner join, left join, right join, full join.\n",
    "\n",
    "<b>Task 2</b> : Write the SQL to do the following:\n",
    "1. Add full airline name to the flights dataframe and show the arr_time, origin, dest and the name of the airline.\n",
    "2. Filter resulting data.frame to include only flights containing the word JetBlue\n",
    "3. Summarise the total number of flights by origin in ascending.\n",
    "4. Filter resulting data.frame to return only origins with more than 100 flights."
   ]
  },
  {
   "cell_type": "markdown",
   "id": "loved-disorder",
   "metadata": {},
   "source": [
    "### Task 1"
   ]
  },
  {
   "cell_type": "markdown",
   "id": "incorporate-priority",
   "metadata": {},
   "source": [
    "<b>Inner join</b>: The inner join in SQL is the most common type of join. It is employed to obtain all the rows from various tables that meet the criteria for joining.\n",
    "\n",
    "<b>Left Join</b>: In SQL, a left join returns all of the data from the left table, but only the matching rows from the right table when the join condition is met.\n",
    "\n",
    "<b>Right Join</b>: In SQL, a “right join” returns all rows from the right table but only matches records from the left table when the join condition is met.\n",
    "\n",
    "<b>Full Join</b>: When there is a match in any table, a full join returns all the records. As a result, all rows from the left-hand side table and all rows from the right-hand side table are returned"
   ]
  },
  {
   "cell_type": "markdown",
   "id": "valid-measure",
   "metadata": {},
   "source": [
    "### Task 2"
   ]
  },
  {
   "cell_type": "code",
   "execution_count": null,
   "id": "smoking-candle",
   "metadata": {},
   "outputs": [],
   "source": [
    "1. SELECT arr_time, origin, dest, name  \n",
    "FROM flights \n",
    "LEFT JOIN airlines ON flights.carrier=airlines.carrier;\n",
    "\n",
    "2. SELECT arr_time, origin, dest, name  \n",
    "FROM flights \n",
    "LEFT JOIN airlines ON flights.carrier=airlines.carrier\n",
    "WHERE name LIKE '%JetBlue%';\n",
    "\n",
    "3. SELECT origin, COUNT(origin) AS 'numFlights' \n",
    "FROM flights \n",
    "LEFT JOIN airlines ON flights.carrier=airlines.carrier\n",
    "WHERE name LIKE '%JetBlue%'\n",
    "GROUP BY origin\n",
    "ORDER BY numFlights ASC;\n",
    "\n",
    "4. SELECT origin, COUNT(origin) AS 'numFlights' \n",
    "FROM flights \n",
    "LEFT JOIN airlines ON flights.carrier=airlines.carrier\n",
    "WHERE name LIKE '%JetBlue%'\n",
    "GROUP BY origin\n",
    "HAVING numFlights > 100\n",
    "ORDER BY numFlights ASC;"
   ]
  },
  {
   "cell_type": "code",
   "execution_count": null,
   "id": "german-brook",
   "metadata": {},
   "outputs": [],
   "source": []
  },
  {
   "cell_type": "code",
   "execution_count": null,
   "id": "medium-effectiveness",
   "metadata": {},
   "outputs": [],
   "source": []
  }
 ],
 "metadata": {
  "kernelspec": {
   "display_name": "Python 3",
   "language": "python",
   "name": "python3"
  },
  "language_info": {
   "codemirror_mode": {
    "name": "ipython",
    "version": 3
   },
   "file_extension": ".py",
   "mimetype": "text/x-python",
   "name": "python",
   "nbconvert_exporter": "python",
   "pygments_lexer": "ipython3",
   "version": "3.9.13"
  },
  "toc": {
   "base_numbering": 1,
   "nav_menu": {},
   "number_sections": true,
   "sideBar": true,
   "skip_h1_title": false,
   "title_cell": "Table of Contents",
   "title_sidebar": "Contents",
   "toc_cell": false,
   "toc_position": {},
   "toc_section_display": true,
   "toc_window_display": false
  },
  "varInspector": {
   "cols": {
    "lenName": 16,
    "lenType": 16,
    "lenVar": 40
   },
   "kernels_config": {
    "python": {
     "delete_cmd_postfix": "",
     "delete_cmd_prefix": "del ",
     "library": "var_list.py",
     "varRefreshCmd": "print(var_dic_list())"
    },
    "r": {
     "delete_cmd_postfix": ") ",
     "delete_cmd_prefix": "rm(",
     "library": "var_list.r",
     "varRefreshCmd": "cat(var_dic_list()) "
    }
   },
   "types_to_exclude": [
    "module",
    "function",
    "builtin_function_or_method",
    "instance",
    "_Feature"
   ],
   "window_display": false
  }
 },
 "nbformat": 4,
 "nbformat_minor": 5
}
